{
 "cells": [
  {
   "cell_type": "code",
   "execution_count": 1,
   "metadata": {},
   "outputs": [
    {
     "name": "stderr",
     "output_type": "stream",
     "text": [
      "Using TensorFlow backend.\n"
     ]
    }
   ],
   "source": [
    "import numpy as np\n",
    "import pandas as pd\n",
    "import os\n",
    "import seaborn as sns\n",
    "import matplotlib.pyplot as plt\n",
    "from scipy import stats\n",
    "from sklearn import metrics\n",
    "from sklearn.model_selection import train_test_split\n",
    "from keras.models import Sequential, Model\n",
    "from keras.layers import Dense, BatchNormalization\n",
    "from keras.layers import Flatten\n",
    "from keras.layers import Dropout\n",
    "from sklearn.preprocessing import LabelEncoder\n",
    "from keras.callbacks import ModelCheckpoint\n",
    "from keras.layers.convolutional import Conv1D\n",
    "from keras.layers.convolutional import MaxPooling1D\n",
    "from sklearn.metrics import classification_report\n",
    "RANDOM_SEED = 32\n",
    "%matplotlib inline"
   ]
  },
  {
   "cell_type": "markdown",
   "metadata": {},
   "source": [
    "# Load the dataset"
   ]
  },
  {
   "cell_type": "code",
   "execution_count": 2,
   "metadata": {},
   "outputs": [
    {
     "name": "stdout",
     "output_type": "stream",
     "text": [
      "['0001', '0002', '0003']\n",
      "0001\n",
      "Subject_0001_EMTEQ_50Hz.csv\n",
      "0002\n",
      "Subject_0002_EMTEQ_50Hz.csv\n",
      "0003\n",
      "Subject_0003_EMTEQ_50Hz.csv\n"
     ]
    }
   ],
   "source": [
    "dataset_path = './Dataset/Train/'\n",
    "person_folders = os.listdir(dataset_path)\n",
    "print(person_folders)\n",
    "\n",
    "df = pd.DataFrame()\n",
    "df_list = []\n",
    "\n",
    "for i in range(len(person_folders)):\n",
    "    person_folder = person_folders[i]\n",
    "    print(person_folder)\n",
    "\n",
    "    csv_file_path = dataset_path + person_folder + '/'\n",
    "    csv_files = os.listdir(csv_file_path)\n",
    "\n",
    "    for k in range(len(csv_files)):\n",
    "        csv_file = csv_files[k]\n",
    "        print(csv_file)\n",
    "\n",
    "        data_frame = pd.read_csv(csv_file_path + '/' + csv_file, index_col=None, header=None)\n",
    "        df_list.append(data_frame)\n",
    "\n",
    "df = pd.concat(df_list, axis = 0, sort= True, ignore_index = True)\n",
    "df.columns = ['Timestamp','Ax', 'Ay', 'Az', 'Gx', 'Gy', 'Gz', 'Mx', 'My', 'Mz', 'Activity']"
   ]
  },
  {
   "cell_type": "markdown",
   "metadata": {},
   "source": [
    "# Handle Missing values"
   ]
  },
  {
   "cell_type": "code",
   "execution_count": 3,
   "metadata": {},
   "outputs": [
    {
     "name": "stdout",
     "output_type": "stream",
     "text": [
      "Timestamp    2537810\n",
      "Ax           2537800\n",
      "Ay           2508225\n",
      "Az           2535629\n",
      "Gx           2537810\n",
      "Gy           2537810\n",
      "Gz           2537810\n",
      "Mx           2537611\n",
      "My           2533650\n",
      "Mz           2535234\n",
      "Activity     2537810\n",
      "dtype: int64\n"
     ]
    }
   ],
   "source": [
    "df['Ax']=df['Ax'].replace(0, np.nan)\n",
    "df['Ay']=df['Ay'].replace(0, np.nan)\n",
    "df['Az']=df['Az'].replace(0, np.nan)\n",
    "\n",
    "df['Gx']=df['Gx'].replace(0, np.nan)\n",
    "df['Gy']=df['Gy'].replace(0, np.nan)\n",
    "df['Gz']=df['Gz'].replace(0, np.nan)\n",
    "\n",
    "df['Mx']=df['Mx'].replace(0, np.nan)\n",
    "df['My']=df['My'].replace(0, np.nan)\n",
    "df['Mz']=df['Mz'].replace(0, np.nan)\n",
    "print(df.count())"
   ]
  },
  {
   "cell_type": "markdown",
   "metadata": {},
   "source": [
    "# Remove Leading and Trailing Space"
   ]
  },
  {
   "cell_type": "code",
   "execution_count": 4,
   "metadata": {},
   "outputs": [],
   "source": [
    "df['Activity'] = df['Activity'].str.replace(\" \",\"\")"
   ]
  },
  {
   "cell_type": "code",
   "execution_count": 5,
   "metadata": {},
   "outputs": [
    {
     "name": "stdout",
     "output_type": "stream",
     "text": [
      "Timestamp    2499159\n",
      "Ax           2499159\n",
      "Ay           2499159\n",
      "Az           2499159\n",
      "Gx           2499159\n",
      "Gy           2499159\n",
      "Gz           2499159\n",
      "Mx           2499159\n",
      "My           2499159\n",
      "Mz           2499159\n",
      "Activity     2499159\n",
      "dtype: int64\n"
     ]
    },
    {
     "data": {
      "text/html": [
       "<div>\n",
       "<style scoped>\n",
       "    .dataframe tbody tr th:only-of-type {\n",
       "        vertical-align: middle;\n",
       "    }\n",
       "\n",
       "    .dataframe tbody tr th {\n",
       "        vertical-align: top;\n",
       "    }\n",
       "\n",
       "    .dataframe thead th {\n",
       "        text-align: right;\n",
       "    }\n",
       "</style>\n",
       "<table border=\"1\" class=\"dataframe\">\n",
       "  <thead>\n",
       "    <tr style=\"text-align: right;\">\n",
       "      <th></th>\n",
       "      <th>Timestamp</th>\n",
       "      <th>Ax</th>\n",
       "      <th>Ay</th>\n",
       "      <th>Az</th>\n",
       "      <th>Gx</th>\n",
       "      <th>Gy</th>\n",
       "      <th>Gz</th>\n",
       "      <th>Mx</th>\n",
       "      <th>My</th>\n",
       "      <th>Mz</th>\n",
       "      <th>Activity</th>\n",
       "    </tr>\n",
       "  </thead>\n",
       "  <tbody>\n",
       "    <tr>\n",
       "      <th>0</th>\n",
       "      <td>2019-07-15_104955:220</td>\n",
       "      <td>-0.466217</td>\n",
       "      <td>0.011688</td>\n",
       "      <td>-0.190125</td>\n",
       "      <td>0.003303</td>\n",
       "      <td>0.017582</td>\n",
       "      <td>0.009117</td>\n",
       "      <td>-44.560001</td>\n",
       "      <td>-17.250000</td>\n",
       "      <td>-0.56</td>\n",
       "      <td>2d</td>\n",
       "    </tr>\n",
       "    <tr>\n",
       "      <th>1</th>\n",
       "      <td>2019-07-15_104955:240</td>\n",
       "      <td>-0.466705</td>\n",
       "      <td>0.009125</td>\n",
       "      <td>-0.173370</td>\n",
       "      <td>0.004188</td>\n",
       "      <td>0.018772</td>\n",
       "      <td>0.011375</td>\n",
       "      <td>-44.560001</td>\n",
       "      <td>-17.250000</td>\n",
       "      <td>-0.56</td>\n",
       "      <td>2d</td>\n",
       "    </tr>\n",
       "    <tr>\n",
       "      <th>2</th>\n",
       "      <td>2019-07-15_104955:260</td>\n",
       "      <td>-0.465179</td>\n",
       "      <td>0.008636</td>\n",
       "      <td>-0.167267</td>\n",
       "      <td>0.004921</td>\n",
       "      <td>0.019566</td>\n",
       "      <td>0.011894</td>\n",
       "      <td>-44.560001</td>\n",
       "      <td>-16.559999</td>\n",
       "      <td>0.06</td>\n",
       "      <td>2d</td>\n",
       "    </tr>\n",
       "    <tr>\n",
       "      <th>3</th>\n",
       "      <td>2019-07-15_104955:280</td>\n",
       "      <td>-0.486023</td>\n",
       "      <td>0.008636</td>\n",
       "      <td>-0.146912</td>\n",
       "      <td>0.005348</td>\n",
       "      <td>0.020176</td>\n",
       "      <td>0.012718</td>\n",
       "      <td>-44.560001</td>\n",
       "      <td>-16.559999</td>\n",
       "      <td>0.06</td>\n",
       "      <td>2d</td>\n",
       "    </tr>\n",
       "    <tr>\n",
       "      <th>4</th>\n",
       "      <td>2019-07-15_104955:300</td>\n",
       "      <td>-0.464691</td>\n",
       "      <td>0.004059</td>\n",
       "      <td>-0.130646</td>\n",
       "      <td>0.006599</td>\n",
       "      <td>0.020298</td>\n",
       "      <td>0.012169</td>\n",
       "      <td>-44.560001</td>\n",
       "      <td>-16.559999</td>\n",
       "      <td>0.06</td>\n",
       "      <td>2d</td>\n",
       "    </tr>\n",
       "  </tbody>\n",
       "</table>\n",
       "</div>"
      ],
      "text/plain": [
       "               Timestamp        Ax        Ay        Az        Gx        Gy  \\\n",
       "0  2019-07-15_104955:220 -0.466217  0.011688 -0.190125  0.003303  0.017582   \n",
       "1  2019-07-15_104955:240 -0.466705  0.009125 -0.173370  0.004188  0.018772   \n",
       "2  2019-07-15_104955:260 -0.465179  0.008636 -0.167267  0.004921  0.019566   \n",
       "3  2019-07-15_104955:280 -0.486023  0.008636 -0.146912  0.005348  0.020176   \n",
       "4  2019-07-15_104955:300 -0.464691  0.004059 -0.130646  0.006599  0.020298   \n",
       "\n",
       "         Gz         Mx         My    Mz Activity  \n",
       "0  0.009117 -44.560001 -17.250000 -0.56       2d  \n",
       "1  0.011375 -44.560001 -17.250000 -0.56       2d  \n",
       "2  0.011894 -44.560001 -16.559999  0.06       2d  \n",
       "3  0.012718 -44.560001 -16.559999  0.06       2d  \n",
       "4  0.012169 -44.560001 -16.559999  0.06       2d  "
      ]
     },
     "execution_count": 5,
     "metadata": {},
     "output_type": "execute_result"
    }
   ],
   "source": [
    "df.dropna(inplace=True)\n",
    "print(df.count())\n",
    "df.head()"
   ]
  },
  {
   "cell_type": "code",
   "execution_count": 6,
   "metadata": {},
   "outputs": [
    {
     "data": {
      "image/png": "[encoded data removed]",
      "text/plain": [
       "<Figure size 432x288 with 1 Axes>"
      ]
     },
     "metadata": {
      "needs_background": "light"
     },
     "output_type": "display_data"
    }
   ],
   "source": [
    "df['Activity'].value_counts().plot(kind='bar', title='Records by Activity Type', figsize=(6, 4),align='center');"
   ]
  },
  {
   "cell_type": "markdown",
   "metadata": {},
   "source": [
    "# Remove \"TRANSITION\""
   ]
  },
  {
   "cell_type": "code",
   "execution_count": 7,
   "metadata": {},
   "outputs": [],
   "source": [
    "indexes = df[df['Activity'] == 'TRANSITION'].index\n",
    "df.drop(indexes, inplace=True)"
   ]
  },
  {
   "cell_type": "code",
   "execution_count": 8,
   "metadata": {},
   "outputs": [
    {
     "name": "stdout",
     "output_type": "stream",
     "text": [
      "Timestamp    2095566\n",
      "Ax           2095566\n",
      "Ay           2095566\n",
      "Az           2095566\n",
      "Gx           2095566\n",
      "Gy           2095566\n",
      "Gz           2095566\n",
      "Mx           2095566\n",
      "My           2095566\n",
      "Mz           2095566\n",
      "Activity     2095566\n",
      "dtype: int64\n"
     ]
    },
    {
     "data": {
      "text/html": [
       "<div>\n",
       "<style scoped>\n",
       "    .dataframe tbody tr th:only-of-type {\n",
       "        vertical-align: middle;\n",
       "    }\n",
       "\n",
       "    .dataframe tbody tr th {\n",
       "        vertical-align: top;\n",
       "    }\n",
       "\n",
       "    .dataframe thead th {\n",
       "        text-align: right;\n",
       "    }\n",
       "</style>\n",
       "<table border=\"1\" class=\"dataframe\">\n",
       "  <thead>\n",
       "    <tr style=\"text-align: right;\">\n",
       "      <th></th>\n",
       "      <th>Timestamp</th>\n",
       "      <th>Ax</th>\n",
       "      <th>Ay</th>\n",
       "      <th>Az</th>\n",
       "      <th>Gx</th>\n",
       "      <th>Gy</th>\n",
       "      <th>Gz</th>\n",
       "      <th>Mx</th>\n",
       "      <th>My</th>\n",
       "      <th>Mz</th>\n",
       "      <th>Activity</th>\n",
       "    </tr>\n",
       "  </thead>\n",
       "  <tbody>\n",
       "    <tr>\n",
       "      <th>0</th>\n",
       "      <td>2019-07-15_104955:220</td>\n",
       "      <td>-0.466217</td>\n",
       "      <td>0.011688</td>\n",
       "      <td>-0.190125</td>\n",
       "      <td>0.003303</td>\n",
       "      <td>0.017582</td>\n",
       "      <td>0.009117</td>\n",
       "      <td>-44.560001</td>\n",
       "      <td>-17.250000</td>\n",
       "      <td>-0.56</td>\n",
       "      <td>2d</td>\n",
       "    </tr>\n",
       "    <tr>\n",
       "      <th>1</th>\n",
       "      <td>2019-07-15_104955:240</td>\n",
       "      <td>-0.466705</td>\n",
       "      <td>0.009125</td>\n",
       "      <td>-0.173370</td>\n",
       "      <td>0.004188</td>\n",
       "      <td>0.018772</td>\n",
       "      <td>0.011375</td>\n",
       "      <td>-44.560001</td>\n",
       "      <td>-17.250000</td>\n",
       "      <td>-0.56</td>\n",
       "      <td>2d</td>\n",
       "    </tr>\n",
       "    <tr>\n",
       "      <th>2</th>\n",
       "      <td>2019-07-15_104955:260</td>\n",
       "      <td>-0.465179</td>\n",
       "      <td>0.008636</td>\n",
       "      <td>-0.167267</td>\n",
       "      <td>0.004921</td>\n",
       "      <td>0.019566</td>\n",
       "      <td>0.011894</td>\n",
       "      <td>-44.560001</td>\n",
       "      <td>-16.559999</td>\n",
       "      <td>0.06</td>\n",
       "      <td>2d</td>\n",
       "    </tr>\n",
       "    <tr>\n",
       "      <th>3</th>\n",
       "      <td>2019-07-15_104955:280</td>\n",
       "      <td>-0.486023</td>\n",
       "      <td>0.008636</td>\n",
       "      <td>-0.146912</td>\n",
       "      <td>0.005348</td>\n",
       "      <td>0.020176</td>\n",
       "      <td>0.012718</td>\n",
       "      <td>-44.560001</td>\n",
       "      <td>-16.559999</td>\n",
       "      <td>0.06</td>\n",
       "      <td>2d</td>\n",
       "    </tr>\n",
       "    <tr>\n",
       "      <th>4</th>\n",
       "      <td>2019-07-15_104955:300</td>\n",
       "      <td>-0.464691</td>\n",
       "      <td>0.004059</td>\n",
       "      <td>-0.130646</td>\n",
       "      <td>0.006599</td>\n",
       "      <td>0.020298</td>\n",
       "      <td>0.012169</td>\n",
       "      <td>-44.560001</td>\n",
       "      <td>-16.559999</td>\n",
       "      <td>0.06</td>\n",
       "      <td>2d</td>\n",
       "    </tr>\n",
       "  </tbody>\n",
       "</table>\n",
       "</div>"
      ],
      "text/plain": [
       "               Timestamp        Ax        Ay        Az        Gx        Gy  \\\n",
       "0  2019-07-15_104955:220 -0.466217  0.011688 -0.190125  0.003303  0.017582   \n",
       "1  2019-07-15_104955:240 -0.466705  0.009125 -0.173370  0.004188  0.018772   \n",
       "2  2019-07-15_104955:260 -0.465179  0.008636 -0.167267  0.004921  0.019566   \n",
       "3  2019-07-15_104955:280 -0.486023  0.008636 -0.146912  0.005348  0.020176   \n",
       "4  2019-07-15_104955:300 -0.464691  0.004059 -0.130646  0.006599  0.020298   \n",
       "\n",
       "         Gz         Mx         My    Mz Activity  \n",
       "0  0.009117 -44.560001 -17.250000 -0.56       2d  \n",
       "1  0.011375 -44.560001 -17.250000 -0.56       2d  \n",
       "2  0.011894 -44.560001 -16.559999  0.06       2d  \n",
       "3  0.012718 -44.560001 -16.559999  0.06       2d  \n",
       "4  0.012169 -44.560001 -16.559999  0.06       2d  "
      ]
     },
     "execution_count": 8,
     "metadata": {},
     "output_type": "execute_result"
    }
   ],
   "source": [
    "print(df.count())\n",
    "df.head()"
   ]
  },
  {
   "cell_type": "code",
   "execution_count": 9,
   "metadata": {},
   "outputs": [
    {
     "data": {
      "image/png": "[encoded data removed]",
      "text/plain": [
       "<Figure size 432x288 with 1 Axes>"
      ]
     },
     "metadata": {
      "needs_background": "light"
     },
     "output_type": "display_data"
    }
   ],
   "source": [
    "df['Activity'].value_counts().plot(kind='bar', title='Records by Activity Type', figsize=(6, 4),align='center');"
   ]
  },
  {
   "cell_type": "markdown",
   "metadata": {},
   "source": [
    "# Fit transform to make string type"
   ]
  },
  {
   "cell_type": "code",
   "execution_count": 10,
   "metadata": {},
   "outputs": [],
   "source": [
    "le = LabelEncoder()\n",
    "df['Activity'] = le.fit_transform(df['Activity'].astype(str))"
   ]
  },
  {
   "cell_type": "markdown",
   "metadata": {},
   "source": [
    "# Normalize the data"
   ]
  },
  {
   "cell_type": "code",
   "execution_count": 11,
   "metadata": {},
   "outputs": [],
   "source": [
    "# Normalize features for training data set (values between 0 and 1)\n",
    "# Surpress warning for next 3 operation\n",
    "pd.options.mode.chained_assignment = None  # default='warn'\n",
    "\n",
    "df['Ax'] = df['Ax'] / df['Ax'].max()\n",
    "df['Ay'] = df['Ay'] / df['Ay'].max()\n",
    "df['Az'] = df['Az'] / df['Az'].max()\n",
    "\n",
    "df['Gx'] = df['Gx'] / df['Gx'].max()\n",
    "df['Gy'] = df['Gy'] / df['Gy'].max()\n",
    "df['Gz'] = df['Gz'] / df['Gz'].max()\n",
    "\n",
    "df['Mx'] = df['Mx'] / df['Mx'].max()\n",
    "df['My'] = df['My'] / df['My'].max()\n",
    "df['Mz'] = df['Mz'] / df['Mz'].max()\n",
    "\n",
    "# Round numbers\n",
    "df = df.round({'Ax': 6, 'Ay': 6, 'Az': 6, 'Gx': 6, 'Gy': 6, 'Gz': 6, 'Mx': 6, 'My': 6, 'Mz': 6})"
   ]
  },
  {
   "cell_type": "code",
   "execution_count": 12,
   "metadata": {},
   "outputs": [],
   "source": [
    "N_TIME_STEPS = 100\n",
    "N_FEATURES = 9\n",
    "step = 50\n",
    "segments = []\n",
    "labels = []\n",
    "\n",
    "\n",
    "for i in range(0, len(df) - N_TIME_STEPS, step):\n",
    "    Ax = df['Ax'].values[i: i + N_TIME_STEPS]\n",
    "    Ay = df['Ay'].values[i: i + N_TIME_STEPS]\n",
    "    Az = df['Az'].values[i: i + N_TIME_STEPS]\n",
    "    \n",
    "    Gx = df['Gx'].values[i: i + N_TIME_STEPS]\n",
    "    Gy = df['Gy'].values[i: i + N_TIME_STEPS]\n",
    "    Gz = df['Gz'].values[i: i + N_TIME_STEPS]\n",
    "    \n",
    "    Mx = df['Mx'].values[i: i + N_TIME_STEPS]\n",
    "    My = df['My'].values[i: i + N_TIME_STEPS]\n",
    "    Mz = df['Mz'].values[i: i + N_TIME_STEPS]\n",
    "    \n",
    "    label = stats.mode(df['Activity'][i: i + N_TIME_STEPS])[0][0]\n",
    "    segments.append([Ax, Ay, Az, Gx, Gy, Gz, Mx, My, Mz])\n",
    "    labels.append(label)"
   ]
  },
  {
   "cell_type": "code",
   "execution_count": 13,
   "metadata": {},
   "outputs": [],
   "source": [
    "reshaped_segments = np.asarray(segments, dtype= np.float64).reshape(-1, N_TIME_STEPS, N_FEATURES)\n",
    "labels = np.asarray(pd.get_dummies(labels), dtype = np.float64)"
   ]
  },
  {
   "cell_type": "code",
   "execution_count": 14,
   "metadata": {},
   "outputs": [],
   "source": [
    "X_train, X_test, y_train, y_test = train_test_split(\n",
    "        reshaped_segments, labels, test_size=0.2, random_state=RANDOM_SEED)"
   ]
  },
  {
   "cell_type": "code",
   "execution_count": 15,
   "metadata": {},
   "outputs": [
    {
     "name": "stdout",
     "output_type": "stream",
     "text": [
      "X_train :  (33528, 100, 9)\n",
      "X_test :  (8382, 100, 9)\n",
      "y_train :  (33528, 8)\n",
      "y_test :  (8382, 8)\n",
      "y_train values :  [[0. 0. 0. ... 0. 0. 0.]\n",
      " [0. 0. 0. ... 0. 0. 1.]\n",
      " [0. 0. 0. ... 0. 0. 0.]\n",
      " ...\n",
      " [0. 0. 1. ... 0. 0. 0.]\n",
      " [0. 0. 0. ... 1. 0. 0.]\n",
      " [1. 0. 0. ... 0. 0. 0.]]\n"
     ]
    }
   ],
   "source": [
    "print('X_train : ', X_train.shape)\n",
    "print('X_test : ', X_test.shape)\n",
    "print('y_train : ', y_train.shape)\n",
    "print('y_test : ', y_test.shape)\n",
    "print('y_train values : ', y_train)"
   ]
  },
  {
   "cell_type": "code",
   "execution_count": 16,
   "metadata": {},
   "outputs": [
    {
     "name": "stdout",
     "output_type": "stream",
     "text": [
      "n_timesteps :  100\n",
      "n_features :  9\n",
      "n_outputs :  8\n"
     ]
    }
   ],
   "source": [
    "verbose = 1\n",
    "epochs = 10\n",
    "batch_size = 50\n",
    "\n",
    "n_timesteps = X_train.shape[1]\n",
    "n_features = X_train.shape[2]\n",
    "n_outputs = y_train.shape[1]\n",
    "\n",
    "print('n_timesteps : ', n_timesteps)\n",
    "print('n_features : ', n_features)\n",
    "print('n_outputs : ', n_outputs)"
   ]
  },
  {
   "cell_type": "code",
   "execution_count": 17,
   "metadata": {},
   "outputs": [],
   "source": [
    "model = Sequential()\n",
    "model.add(Conv1D(filters=64, kernel_size=3, activation='relu', input_shape=(n_timesteps,n_features)))\n",
    "model.add(Conv1D(filters=64, kernel_size=3, activation='relu', padding = 'same'))\n",
    "model.add(Dropout(0.5))\n",
    "model.add(MaxPooling1D(pool_size=2))\n",
    "model.add(Flatten())\n",
    "model.add(Dense(100, activation='relu'))\n",
    "model.add(Dense(n_outputs, activation='softmax'))"
   ]
  },
  {
   "cell_type": "code",
   "execution_count": 18,
   "metadata": {},
   "outputs": [
    {
     "name": "stdout",
     "output_type": "stream",
     "text": [
      "Train on 33528 samples, validate on 8382 samples\n",
      "Epoch 1/10\n",
      "33528/33528 [==============================] - 34s 1ms/step - loss: 0.4680 - acc: 0.8279 - val_loss: 0.3129 - val_acc: 0.9112\n",
      "Epoch 2/10\n",
      "33528/33528 [==============================] - 33s 974us/step - loss: 0.2388 - acc: 0.9193 - val_loss: 0.2205 - val_acc: 0.9456\n",
      "Epoch 3/10\n",
      "33528/33528 [==============================] - 33s 981us/step - loss: 0.1796 - acc: 0.9408 - val_loss: 0.1772 - val_acc: 0.9486\n",
      "Epoch 4/10\n",
      "33528/33528 [==============================] - 33s 978us/step - loss: 0.1456 - acc: 0.9509 - val_loss: 0.1664 - val_acc: 0.9476\n",
      "Epoch 5/10\n",
      "33528/33528 [==============================] - 33s 977us/step - loss: 0.1235 - acc: 0.9606 - val_loss: 0.1406 - val_acc: 0.9639\n",
      "Epoch 6/10\n",
      "33528/33528 [==============================] - 33s 972us/step - loss: 0.1080 - acc: 0.9652 - val_loss: 0.1138 - val_acc: 0.9722\n",
      "Epoch 7/10\n",
      "33528/33528 [==============================] - 33s 975us/step - loss: 0.0967 - acc: 0.9680 - val_loss: 0.1201 - val_acc: 0.9652\n",
      "Epoch 8/10\n",
      "33528/33528 [==============================] - 33s 970us/step - loss: 0.0890 - acc: 0.9704 - val_loss: 0.1131 - val_acc: 0.9627\n",
      "Epoch 9/10\n",
      "33528/33528 [==============================] - 32s 969us/step - loss: 0.0836 - acc: 0.9715 - val_loss: 0.0978 - val_acc: 0.9745\n",
      "Epoch 10/10\n",
      "33528/33528 [==============================] - 33s 979us/step - loss: 0.0794 - acc: 0.9732 - val_loss: 0.0892 - val_acc: 0.9749\n",
      "8382/8382 [==============================] - 2s 234us/step\n",
      "[INFO] loss=0.0892, accuracy: 97.4946%\n"
     ]
    }
   ],
   "source": [
    "model.compile(loss='categorical_crossentropy', optimizer='adam', metrics=['accuracy'])\n",
    "    \n",
    "# fit network\n",
    "history = model.fit(X_train, y_train, validation_data=(X_test, y_test), \n",
    "                    epochs=epochs, batch_size=batch_size, verbose=verbose)\n",
    "# evaluate model\n",
    "(loss, accuracy) = model.evaluate(X_test, y_test, batch_size=batch_size, verbose=verbose)\n",
    "print(\"[INFO] loss={:.4f}, accuracy: {:.4f}%\".format(loss, accuracy * 100))"
   ]
  },
  {
   "cell_type": "markdown",
   "metadata": {},
   "source": [
    "# Confusion Matrix"
   ]
  },
  {
   "cell_type": "code",
   "execution_count": 19,
   "metadata": {},
   "outputs": [
    {
     "data": {
      "image/png": "[encoded data removed]",
      "text/plain": [
       "<Figure size 576x432 with 2 Axes>"
      ]
     },
     "metadata": {
      "needs_background": "light"
     },
     "output_type": "display_data"
    },
    {
     "name": "stdout",
     "output_type": "stream",
     "text": [
      "              precision    recall  f1-score   support\n",
      "\n",
      "           0       0.97      0.94      0.95      1127\n",
      "           1       0.91      0.97      0.94      1136\n",
      "           2       1.00      0.98      0.99       973\n",
      "           3       0.98      0.98      0.98       742\n",
      "           4       0.99      0.99      0.99      1430\n",
      "           5       0.98      0.98      0.98       866\n",
      "           6       0.99      0.99      0.99      1051\n",
      "           7       0.99      0.96      0.98      1057\n",
      "\n",
      "   micro avg       0.97      0.97      0.97      8382\n",
      "   macro avg       0.98      0.97      0.98      8382\n",
      "weighted avg       0.98      0.97      0.98      8382\n",
      "\n"
     ]
    }
   ],
   "source": [
    "\n",
    "# Print confusion matrix for training data\n",
    "y_pred_train = model.predict(X_train)\n",
    "# Take the class with the highest probability from the train predictions\n",
    "max_y_pred_train = np.argmax(y_pred_train, axis=1)\n",
    "#print(classification_report(trainy, max_y_pred_train))\n",
    "\n",
    "# confusion matrix\n",
    "LABELS = [ '1a', '1b', '2a', '2b', '2c', '2d', '3a', '3b']\n",
    "y_pred_test = model.predict(X_test)\n",
    "# Take the class with the highest probability from the test predictions\n",
    "max_y_pred_test = np.argmax(y_pred_test, axis=1)\n",
    "max_y_test = np.argmax(y_test, axis=1)\n",
    "\n",
    "matrix = metrics.confusion_matrix(max_y_test, max_y_pred_test)\n",
    "matrix = (matrix.astype('float') / matrix.sum(axis=1)[:, np.newaxis])*100\n",
    "fmt = '.2f'\n",
    "plt.figure(figsize=(8, 6))\n",
    "sns.heatmap(matrix,\n",
    "            cmap='coolwarm',\n",
    "            linecolor='white',\n",
    "            linewidths=1,\n",
    "            xticklabels= LABELS,\n",
    "            yticklabels= LABELS,\n",
    "            annot=True,\n",
    "            fmt=fmt,\n",
    "           vmax = 100)\n",
    "plt.title('Confusion Matrix')\n",
    "plt.ylabel('True Label')\n",
    "plt.xlabel('Predicted Label')\n",
    "plt.show()\n",
    "\n",
    "print(classification_report(max_y_test, max_y_pred_test))"
   ]
  },
  {
   "cell_type": "code",
   "execution_count": null,
   "metadata": {},
   "outputs": [],
   "source": []
  }
 ],
 "metadata": {
  "kernelspec": {
   "display_name": "Python 3",
   "language": "python",
   "name": "python3"
  },
  "language_info": {
   "codemirror_mode": {
    "name": "ipython",
    "version": 3
   },
   "file_extension": ".py",
   "mimetype": "text/x-python",
   "name": "python",
   "nbconvert_exporter": "python",
   "pygments_lexer": "ipython3",
   "version": "3.6.7"
  }
 },
 "nbformat": 4,
 "nbformat_minor": 2
}
